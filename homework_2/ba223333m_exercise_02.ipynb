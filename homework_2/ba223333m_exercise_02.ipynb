{
 "cells": [
  {
   "cell_type": "code",
   "execution_count": 89,
   "metadata": {},
   "outputs": [
    {
     "name": "stderr",
     "output_type": "stream",
     "text": [
      "3965.79s - pydevd: Sending message related to process being replaced timed-out after 5 seconds\n"
     ]
    },
    {
     "name": "stdout",
     "output_type": "stream",
     "text": [
      "Defaulting to user installation because normal site-packages is not writeable\n",
      "Requirement already satisfied: pysam in /home/aleksa/.local/lib/python3.10/site-packages (0.20.0)\n",
      "Note: you may need to restart the kernel to use updated packages.\n"
     ]
    }
   ],
   "source": [
    "pip install pysam"
   ]
  },
  {
   "cell_type": "code",
   "execution_count": 90,
   "metadata": {},
   "outputs": [
    {
     "name": "stdout",
     "output_type": "stream",
     "text": [
      "Read:  1\n",
      "Flag:  1187\n",
      "Read:  C0HVYACXX120402:7:1207:5722:57044\t1187\t#20\t9483249\t27\t76M\t#20\t9483382\t209\tTTTTCAAACAGTATCTATGCCTGCCAAATGTGAACATATAAAAAAAAACCAGAATGTGCCATTCTGATTTAAACTG\tarray('B', [28, 28, 27, 29, 31, 30, 31, 31, 29, 31, 35, 30, 29, 31, 34, 30, 29, 23, 41, 32, 20, 30, 29, 34, 34, 29, 30, 31, 30, 30, 30, 33, 33, 26, 39, 12, 25, 19, 32, 30, 35, 28, 35, 33, 23, 33, 35, 36, 30, 38, 33, 41, 34, 35, 31, 33, 23, 30, 30, 36, 27, 32, 29, 34, 35, 41, 33, 31, 33, 29, 32, 32, 31, 31, 31, 34])\t[('XA', 'GL000217.1,-110754,76M,1;'), ('BD', 'NNNNNNNNNNNNNNNNNNNNNNNNNNNNNNNNNNNNNNNNNNNNNNNNNNNNNNNNNNNNNNNNNNNNNNNNNNNN'), ('MD', '76'), ('RG', '1'), ('BI', 'NNNNNNNNNNNNNNNNNNNNNNNNNNNNNNNNNNNNNNNNNNNNNNNNNNNNNNNNNNNNNNNNNNNNNNNNNNNN'), ('NM', 0), ('MQ', 27), ('AS', 76), ('XS', 71)]\n",
      "========================================================================================\n",
      "Read:  2\n",
      "Flag:  163\n",
      "Read:  D0RE2ACXX120401:1:2105:2631:113383\t163\t#20\t9483249\t27\t76M\t#20\t9483382\t209\tTTTTCAAACAGTATCTATGCCTGCCAAATGTGAACATATAAAAAAAAACCAGAATGTGCCATTCTGATTTAAACTG\tarray('B', [28, 29, 27, 30, 31, 30, 31, 31, 34, 31, 40, 30, 29, 34, 41, 34, 29, 33, 39, 40, 37, 36, 30, 39, 36, 34, 29, 35, 26, 41, 31, 33, 31, 35, 39, 34, 34, 29, 34, 31, 36, 37, 35, 35, 33, 35, 36, 35, 40, 37, 34, 39, 30, 29, 28, 15, 19, 30, 36, 36, 36, 33, 33, 38, 34, 37, 33, 30, 33, 33, 29, 34, 32, 30, 31, 29])\t[('XA', 'GL000217.1,-110754,76M,1;'), ('BD', 'NNNNNNNNNNNNNNNNNNNNNNNNNNNNNNNNNNNNNNNNNNNNNNNNNNNNNNNNNNNNNNNNNNNNNNNNNNNN'), ('MD', '76'), ('RG', '1'), ('BI', 'NNNNNNNNNNNNNNNNNNNNNNNNNNNNNNNNNNNNNNNNNNNNNNNNNNNNNNNNNNNNNNNNNNNNNNNNNNNN'), ('NM', 0), ('MQ', 27), ('AS', 76), ('XS', 71)]\n",
      "========================================================================================\n",
      "Read:  3\n",
      "Flag:  99\n",
      "Read:  C0HVYACXX120402:5:1304:16767:148118\t99\t#20\t9483250\t27\t76M\t#20\t9483361\t187\tTTTCAAACAGTATCTATGCCTGCCAAATGTGAACATATAAAAAAAAACCAGAATGTGCCATTCTGATTTAAACTGC\tarray('B', [32, 28, 28, 33, 31, 35, 36, 38, 31, 42, 21, 32, 29, 37, 35, 31, 32, 41, 40, 37, 36, 40, 40, 38, 34, 37, 36, 33, 41, 31, 41, 34, 36, 40, 35, 33, 32, 32, 32, 37, 37, 35, 37, 37, 36, 37, 35, 40, 38, 35, 41, 35, 37, 32, 41, 31, 36, 39, 37, 33, 32, 34, 38, 37, 39, 34, 31, 35, 33, 31, 35, 34, 35, 30, 29, 34])\t[('XA', 'GL000217.1,-110753,76M,1;'), ('BD', 'NNNNNNNNNNNNNNNNNNNNNNNNNNNNNNNNNNNNNNNNNNNNNNNNNNNNNNNNNNNNNNNNNNNNNNNNNNNN'), ('MD', '76'), ('RG', '1'), ('BI', 'NNNNNNNNNNNNNNNNNNNNNNNNNNNNNNNNNNNNNNNNNNNNNNNNNNNNNNNNNNNNNNNNNNNNNNNNNNNN'), ('NM', 0), ('MQ', 27), ('AS', 76), ('XS', 71)]\n",
      "========================================================================================\n"
     ]
    },
    {
     "name": "stderr",
     "output_type": "stream",
     "text": [
      "[E::idx_find_and_load] Could not retrieve index file for 'merged-tumor.bam'\n"
     ]
    }
   ],
   "source": [
    "import pysam\n",
    "\n",
    "mergedTumor = pysam.AlignmentFile(\"merged-tumor.bam\", \"rb\")\n",
    "\n",
    "i = 1\n",
    "for row in mergedTumor:\n",
    "    print(\"Read: \", i)\n",
    "    print(\"Flag: \", row.flag)\n",
    "    print(\"Read: \", row)\n",
    "    print(\"========================================================================================\")\n",
    "    i += 1\n",
    "    if i > 3: break\n",
    "\n",
    "mergedTumor.close()"
   ]
  },
  {
   "cell_type": "code",
   "execution_count": 91,
   "metadata": {},
   "outputs": [
    {
     "name": "stderr",
     "output_type": "stream",
     "text": [
      "[E::idx_find_and_load] Could not retrieve index file for 'merged-tumor.bam'\n"
     ]
    },
    {
     "name": "stdout",
     "output_type": "stream",
     "text": [
      "This file has: 17765 unmapped reads.\n"
     ]
    }
   ],
   "source": [
    "unmappedCounter = 0\n",
    "\n",
    "mergedTumor = pysam.AlignmentFile(\"merged-tumor.bam\", \"rb\")\n",
    "\n",
    "for row in mergedTumor:\n",
    "    if row.is_unmapped: unmappedCounter += 1\n",
    "\n",
    "print(\"This file has:\", end = ' ')\n",
    "print(unmappedCounter, end = ' ')\n",
    "print(\"unmapped reads.\")\n",
    "\n",
    "mergedTumor.close()"
   ]
  },
  {
   "cell_type": "code",
   "execution_count": 92,
   "metadata": {},
   "outputs": [
    {
     "name": "stderr",
     "output_type": "stream",
     "text": [
      "[E::idx_find_and_load] Could not retrieve index file for 'merged-tumor.bam'\n"
     ]
    },
    {
     "name": "stdout",
     "output_type": "stream",
     "text": [
      "This file has: 2921629 reads.\n"
     ]
    }
   ],
   "source": [
    "readsCounter = 0\n",
    "\n",
    "mergedTumor = pysam.AlignmentFile(\"merged-tumor.bam\", \"rb\")\n",
    "\n",
    "for row in mergedTumor:\n",
    "    readsCounter += 1\n",
    "\n",
    "print(\"This file has:\", end = ' ')\n",
    "print(readsCounter, end = ' ')\n",
    "print(\"reads.\")\n",
    "\n",
    "mergedTumor.close()"
   ]
  },
  {
   "cell_type": "code",
   "execution_count": 93,
   "metadata": {},
   "outputs": [
    {
     "name": "stderr",
     "output_type": "stream",
     "text": [
      "[E::idx_find_and_load] Could not retrieve index file for 'merged-tumor.bam'\n"
     ]
    },
    {
     "name": "stdout",
     "output_type": "stream",
     "text": [
      "This file has: 126628 reads with mapping quality 0.\n"
     ]
    }
   ],
   "source": [
    "mappingQualityCounter = 0\n",
    "\n",
    "mergedTumor = pysam.AlignmentFile(\"merged-tumor.bam\", \"rb\")\n",
    "\n",
    "for row in mergedTumor:\n",
    "    if row.mapping_quality == 0: mappingQualityCounter += 1\n",
    "\n",
    "print(\"This file has:\", end = ' ')\n",
    "print(mappingQualityCounter, end = ' ')\n",
    "print(\"reads with mapping quality 0.\")\n",
    "\n",
    "mergedTumor.close()"
   ]
  },
  {
   "cell_type": "code",
   "execution_count": 96,
   "metadata": {},
   "outputs": [
    {
     "name": "stderr",
     "output_type": "stream",
     "text": [
      "[E::idx_find_and_load] Could not retrieve index file for 'merged-tumor.bam'\n"
     ]
    },
    {
     "name": "stdout",
     "output_type": "stream",
     "text": [
      "In this file average mapping quality for all the reads is 55.91379158681681."
     ]
    }
   ],
   "source": [
    "avgMappingQualityCounter = 0\n",
    "\n",
    "mergedTumor = pysam.AlignmentFile(\"merged-tumor.bam\", \"rb\")\n",
    "\n",
    "for row in mergedTumor:\n",
    "    avgMappingQualityCounter += row.mapping_quality\n",
    "\n",
    "avgMappingQualityTotal = avgMappingQualityCounter / readsCounter\n",
    "\n",
    "print(\"In this file average mapping quality for all the reads is\", end = ' ')\n",
    "print(avgMappingQualityTotal, end = '.')\n",
    "\n",
    "mergedTumor.close()"
   ]
  },
  {
   "cell_type": "code",
   "execution_count": 95,
   "metadata": {},
   "outputs": [
    {
     "name": "stdout",
     "output_type": "stream",
     "text": [
      "In this file average mapping quality if reads with 0 map quality are filtered out is 58.446975510921106."
     ]
    }
   ],
   "source": [
    "avgMappingQualityZeroTotal = avgMappingQualityCounter / (readsCounter - mappingQualityCounter)\n",
    "\n",
    "print(\"In this file average mapping quality if reads with 0 map quality are filtered out is\", end = ' ')\n",
    "print(avgMappingQualityZeroTotal, end = '.')"
   ]
  }
 ],
 "metadata": {
  "kernelspec": {
   "display_name": "Python 3",
   "language": "python",
   "name": "python3"
  },
  "language_info": {
   "codemirror_mode": {
    "name": "ipython",
    "version": 3
   },
   "file_extension": ".py",
   "mimetype": "text/x-python",
   "name": "python",
   "nbconvert_exporter": "python",
   "pygments_lexer": "ipython3",
   "version": "3.10.6"
  },
  "orig_nbformat": 4
 },
 "nbformat": 4,
 "nbformat_minor": 2
}
